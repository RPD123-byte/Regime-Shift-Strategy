{
 "cells": [
  {
   "cell_type": "code",
   "execution_count": 31,
   "metadata": {},
   "outputs": [],
   "source": [
    "import yfinance as yf\n",
    "import numpy as np\n",
    "import pandas as pd\n",
    "import pandas_datareader.data as web\n",
    "from sklearn.decomposition import PCA\n",
    "from sklearn.mixture import GaussianMixture\n",
    "from fredapi import Fred\n",
    "import matplotlib.pyplot as plt\n",
    "from sklearn.cluster import KMeans\n",
    "from sklearn.preprocessing import StandardScaler\n",
    "from sklearn.ensemble import AdaBoostClassifier\n",
    "from xgboost import XGBRegressor\n",
    "\n",
    "import warnings\n",
    "warnings.filterwarnings(\"ignore\")\n",
    "\n",
    "\n"
   ]
  },
  {
   "attachments": {},
   "cell_type": "markdown",
   "metadata": {},
   "source": [
    "Import all data necessary for the entire project (besides FRED data from csv)"
   ]
  },
  {
   "cell_type": "code",
   "execution_count": 2,
   "metadata": {},
   "outputs": [
    {
     "name": "stdout",
     "output_type": "stream",
     "text": [
      "[*********************100%***********************]  1 of 1 completed\n",
      "[*********************100%***********************]  1 of 1 completed\n",
      "[*********************100%***********************]  1 of 1 completed\n",
      "[*********************100%***********************]  1 of 1 completed\n"
     ]
    }
   ],
   "source": [
    "start_date = \"1994-01-01\"\n",
    "end_date = \"2014-01-01\"\n",
    "\n",
    "api_key = \"08e5257628ddf030304b107dd5185a26\"\n",
    "fred = Fred(api_key=api_key)\n",
    "\n",
    "aapl_data = yf.download(\"AAPL\", start=start_date, end=end_date)\n",
    "bond_data_10 = yf.download(\"^TNX\", start=start_date, end=end_date)\n",
    "bond_data_5 = yf.download(\"^FVX\", start=start_date, end=end_date)\n",
    "federal_funds_data = fred.get_series(\"DFF\", start_date=start_date, end_date=end_date)\n",
    "treasury_bill_data = yf.download(\"^IRX\", start=start_date, end=end_date)\n",
    "\n"
   ]
  },
  {
   "attachments": {},
   "cell_type": "markdown",
   "metadata": {},
   "source": [
    "Preprocess the data and import in preprocessed FRED indicator data to make the dataset for the project"
   ]
  },
  {
   "cell_type": "code",
   "execution_count": 3,
   "metadata": {},
   "outputs": [],
   "source": [
    "def prepare_dataset(bond_data_10, bond_data_5, treasury_bill_data, federal_funds_data):\n",
    "    \n",
    "    df = pd.DataFrame()\n",
    "    \n",
    "    start_date = \"1994-01-01\"\n",
    "    end_date = \"2014-01-01\"\n",
    "\n",
    "    date_range = pd.date_range(start=start_date, end=end_date)\n",
    "    bond_data_10.reindex(date_range).ffill()\n",
    "    treasury_bill_data.reindex(date_range).ffill()\n",
    "    federal_funds_data.reindex(date_range).ffill()\n",
    "    bond_data_5.reindex(date_range).ffill()\n",
    "\n",
    "    bond_yield_10 = bond_data_10['Adj Close']\n",
    "    treasury_bill_yield = treasury_bill_data['Adj Close']\n",
    "    federal_funds_rate = federal_funds_data\n",
    "\n",
    "\n",
    "    # Calculate the term spread (10-year bond yield - 3-month treasury bill yield)\n",
    "    term_spread = bond_yield_10 - treasury_bill_yield\n",
    "\n",
    "    df[\"10Y3Mspread\"] = term_spread\n",
    "    df[\"10Y3Mspread\"] = df[\"10Y3Mspread\"].ffill()\n",
    "\n",
    "    bond_yield_5 = bond_data_5['Adj Close']\n",
    "    term_spread = bond_yield_5 - treasury_bill_yield\n",
    "    df[\"5Y3Mspread\"] = term_spread\n",
    "    df[\"5Y3Mspread\"] = df[\"5Y3Mspread\"].ffill()\n",
    "\n",
    "    delta_federal_funds = federal_funds_rate.diff()\n",
    "    delta_treasury_bill = treasury_bill_yield.diff()\n",
    "    delta_govt_bond =  bond_yield_10.diff()\n",
    "\n",
    "    df[\"delta_federal_funds\"] = delta_federal_funds\n",
    "\n",
    "    df[\"delta_treasury_bill\"] = delta_treasury_bill \n",
    "    df[\"delta_treasury_bill\"] = df[\"delta_treasury_bill\"].ffill() \n",
    "\n",
    "    df[\"delta_govt_bond\"] = delta_govt_bond\n",
    "    df[\"delta_govt_bond\"] = df[\"delta_govt_bond\"].ffill() \n",
    "\n",
    "    \n",
    "    fred_indicators = pd.read_csv(\"fred_indicators.csv\")\n",
    "    fred_indicators.rename(columns={'Unnamed: 0': 'Date'}, inplace=True)\n",
    "    fred_indicators = fred_indicators.set_index(\"Date\").drop(\"2014-01-01\")\n",
    "    fred_indicators.index = pd.to_datetime(fred_indicators.index)\n",
    "    df = pd.merge(df, fred_indicators, left_on = \"Date\", right_on = \"Date\")\n",
    "\n",
    "    df = df.drop(\"1994-01-03\", axis = 0)\n",
    "    df = df.drop(\"FEDFUNDS\", axis = 1)\n",
    "\n",
    "    return df"
   ]
  },
  {
   "attachments": {},
   "cell_type": "markdown",
   "metadata": {},
   "source": [
    "Create the dataset"
   ]
  },
  {
   "cell_type": "code",
   "execution_count": 4,
   "metadata": {},
   "outputs": [],
   "source": [
    "combined_dataset = prepare_dataset(bond_data_10, bond_data_5, treasury_bill_data, federal_funds_data)"
   ]
  },
  {
   "attachments": {},
   "cell_type": "markdown",
   "metadata": {},
   "source": [
    "Scale and PCA transform data to normalize the data and reduce dimensionality"
   ]
  },
  {
   "cell_type": "code",
   "execution_count": 5,
   "metadata": {},
   "outputs": [],
   "source": [
    "scaler = StandardScaler()\n",
    "combined_dataset_scaled = scaler.fit_transform(combined_dataset)\n"
   ]
  },
  {
   "cell_type": "code",
   "execution_count": 6,
   "metadata": {},
   "outputs": [],
   "source": [
    "pca = PCA(n_components=26)\n",
    "combined_dataset_pca = pca.fit_transform(combined_dataset_scaled)\n"
   ]
  },
  {
   "attachments": {},
   "cell_type": "markdown",
   "metadata": {},
   "source": [
    "Create a Scree plot to determine the optimal number of cluster to use in the K-means algorithm"
   ]
  },
  {
   "cell_type": "code",
   "execution_count": 17,
   "metadata": {},
   "outputs": [
    {
     "data": {
      "image/png": "[encoded data removed]",
      "text/plain": [
       "<Figure size 640x480 with 1 Axes>"
      ]
     },
     "metadata": {},
     "output_type": "display_data"
    }
   ],
   "source": [
    "sp = []\n",
    "for k in range(2,15):\n",
    "    kmeans = KMeans(n_clusters = k, n_init=1)\n",
    "    kmeans.fit(combined_dataset.values)\n",
    "    sp.append(kmeans.inertia_)\n",
    "plt.plot(range(2,15), sp)\n",
    "plt.title(\"Elbow Curve\")\n",
    "plt.show()"
   ]
  },
  {
   "attachments": {},
   "cell_type": "markdown",
   "metadata": {},
   "source": [
    "Train the k-means algorithm on 3 clusters as the elbow appears to be at 3 clusters on the elbow curve"
   ]
  },
  {
   "cell_type": "code",
   "execution_count": 20,
   "metadata": {},
   "outputs": [],
   "source": [
    "# kmeans = KMeans(n_clusters=3).fit(combined_dataset_pca)\n",
    "# labels = kmeans.labels_\n",
    "kmeans = KMeans(n_clusters=3, n_init=1).fit(combined_dataset_pca)\n",
    "labels = kmeans.labels_"
   ]
  },
  {
   "attachments": {},
   "cell_type": "markdown",
   "metadata": {},
   "source": [
    "Get the accuracy of the predictions of several different ML algorithms on clusters to see which is best "
   ]
  },
  {
   "cell_type": "code",
   "execution_count": 21,
   "metadata": {},
   "outputs": [
    {
     "name": "stdout",
     "output_type": "stream",
     "text": [
      "Linear Discriminant Analysis (LDA) - Mean Accuracy: 0.931602134376665\n",
      "Logistic Regression - Mean Accuracy: 0.9742892700654469\n",
      "AdaBoost Classifier - Mean Accuracy: 0.9414159728352061\n",
      "Naive Bayes - Mean Accuracy: 0.7399229429587041\n",
      "Random Forest Classifier - Mean Accuracy: 0.977873336991356\n",
      "Support Vector Machine (SVM) - Mean Accuracy: 0.9519641990918561\n",
      "K-Nearest Neighbors (KNN) - Mean Accuracy: 0.8955570929853442\n",
      "Decision Tree Classifier - Mean Accuracy: 0.9679135752399584\n"
     ]
    }
   ],
   "source": [
    "from sklearn.discriminant_analysis import LinearDiscriminantAnalysis, QuadraticDiscriminantAnalysis\n",
    "from sklearn.linear_model import LogisticRegression\n",
    "from sklearn.ensemble import AdaBoostClassifier, RandomForestClassifier\n",
    "from sklearn.naive_bayes import GaussianNB\n",
    "from sklearn.svm import SVC\n",
    "from sklearn.neighbors import KNeighborsClassifier\n",
    "from sklearn.tree import DecisionTreeClassifier\n",
    "from sklearn.ensemble import GradientBoostingClassifier\n",
    "from sklearn.model_selection import cross_val_score\n",
    "from sklearn.metrics import make_scorer, accuracy_score\n",
    "import xgboost as xgb\n",
    "\n",
    "classifiers = {\n",
    "    'Linear Discriminant Analysis (LDA)': LinearDiscriminantAnalysis(),\n",
    "    'Logistic Regression': LogisticRegression(random_state=42),\n",
    "    'AdaBoost Classifier': AdaBoostClassifier(random_state=42),\n",
    "    'Naive Bayes': GaussianNB(),\n",
    "    'Random Forest Classifier': RandomForestClassifier(random_state=42),\n",
    "    'Support Vector Machine (SVM)': SVC(random_state=42),\n",
    "    'K-Nearest Neighbors (KNN)': KNeighborsClassifier(),\n",
    "    'Decision Tree Classifier': DecisionTreeClassifier(random_state=42),\n",
    "}\n",
    "\n",
    "# Use accuracy as the scoring metric for multi-class classification\n",
    "accuracy_scorer = make_scorer(accuracy_score)\n",
    "\n",
    "for clf_name, clf in classifiers.items():\n",
    "    # Perform 10-fold cross-validation\n",
    "    scores = cross_val_score(clf, combined_dataset_pca, labels, cv=10, scoring=accuracy_scorer)\n",
    "    # Print the mean accuracy score\n",
    "    print(f\"{clf_name} - Mean Accuracy: {scores.mean()}\")\n",
    "\n"
   ]
  },
  {
   "attachments": {},
   "cell_type": "markdown",
   "metadata": {},
   "source": [
    "Take the classifier with the highest accuracy and use that for predictions in the future and for backtesting\n"
   ]
  },
  {
   "cell_type": "code",
   "execution_count": 22,
   "metadata": {},
   "outputs": [],
   "source": [
    "clf = RandomForestClassifier(random_state=42)\n",
    "clf = clf.fit(combined_dataset_pca, labels)"
   ]
  },
  {
   "attachments": {},
   "cell_type": "markdown",
   "metadata": {},
   "source": [
    "Prepare the dataset to be input into the XGBRegressor model (Can use different models)"
   ]
  },
  {
   "cell_type": "code",
   "execution_count": 23,
   "metadata": {},
   "outputs": [],
   "source": [
    "combined_dataset[\"Regime\"] = labels"
   ]
  },
  {
   "cell_type": "code",
   "execution_count": 24,
   "metadata": {},
   "outputs": [],
   "source": [
    "def prepare_dataset_for_prediction(data, aapl_data):\n",
    "    data[\"Close\"] = aapl_data[\"Close\"]\n",
    "    return data"
   ]
  },
  {
   "cell_type": "code",
   "execution_count": 25,
   "metadata": {},
   "outputs": [],
   "source": [
    "prediction_data = prepare_dataset_for_prediction(combined_dataset, aapl_data)"
   ]
  },
  {
   "attachments": {},
   "cell_type": "markdown",
   "metadata": {},
   "source": [
    "Create 3 separate datsets for training separated by regime"
   ]
  },
  {
   "cell_type": "code",
   "execution_count": 26,
   "metadata": {},
   "outputs": [],
   "source": [
    "prediction_data_0 = prediction_data[prediction_data['Regime'] == 0]\n",
    "prediction_data_1 = prediction_data[prediction_data['Regime'] == 1]\n",
    "prediction_data_2 = prediction_data[prediction_data['Regime'] == 2]"
   ]
  },
  {
   "attachments": {},
   "cell_type": "markdown",
   "metadata": {},
   "source": [
    "Create and fit the XGB Regressor models on the 3 datasets"
   ]
  },
  {
   "cell_type": "code",
   "execution_count": 27,
   "metadata": {},
   "outputs": [
    {
     "data": {
      "text/html": [
       "<style>#sk-container-id-1 {color: black;}#sk-container-id-1 pre{padding: 0;}#sk-container-id-1 div.sk-toggleable {background-color: white;}#sk-container-id-1 label.sk-toggleable__label {cursor: pointer;display: block;width: 100%;margin-bottom: 0;padding: 0.3em;box-sizing: border-box;text-align: center;}#sk-container-id-1 label.sk-toggleable__label-arrow:before {content: \"▸\";float: left;margin-right: 0.25em;color: #696969;}#sk-container-id-1 label.sk-toggleable__label-arrow:hover:before {color: black;}#sk-container-id-1 div.sk-estimator:hover label.sk-toggleable__label-arrow:before {color: black;}#sk-container-id-1 div.sk-toggleable__content {max-height: 0;max-width: 0;overflow: hidden;text-align: left;background-color: #f0f8ff;}#sk-container-id-1 div.sk-toggleable__content pre {margin: 0.2em;color: black;border-radius: 0.25em;background-color: #f0f8ff;}#sk-container-id-1 input.sk-toggleable__control:checked~div.sk-toggleable__content {max-height: 200px;max-width: 100%;overflow: auto;}#sk-container-id-1 input.sk-toggleable__control:checked~label.sk-toggleable__label-arrow:before {content: \"▾\";}#sk-container-id-1 div.sk-estimator input.sk-toggleable__control:checked~label.sk-toggleable__label {background-color: #d4ebff;}#sk-container-id-1 div.sk-label input.sk-toggleable__control:checked~label.sk-toggleable__label {background-color: #d4ebff;}#sk-container-id-1 input.sk-hidden--visually {border: 0;clip: rect(1px 1px 1px 1px);clip: rect(1px, 1px, 1px, 1px);height: 1px;margin: -1px;overflow: hidden;padding: 0;position: absolute;width: 1px;}#sk-container-id-1 div.sk-estimator {font-family: monospace;background-color: #f0f8ff;border: 1px dotted black;border-radius: 0.25em;box-sizing: border-box;margin-bottom: 0.5em;}#sk-container-id-1 div.sk-estimator:hover {background-color: #d4ebff;}#sk-container-id-1 div.sk-parallel-item::after {content: \"\";width: 100%;border-bottom: 1px solid gray;flex-grow: 1;}#sk-container-id-1 div.sk-label:hover label.sk-toggleable__label {background-color: #d4ebff;}#sk-container-id-1 div.sk-serial::before {content: \"\";position: absolute;border-left: 1px solid gray;box-sizing: border-box;top: 0;bottom: 0;left: 50%;z-index: 0;}#sk-container-id-1 div.sk-serial {display: flex;flex-direction: column;align-items: center;background-color: white;padding-right: 0.2em;padding-left: 0.2em;position: relative;}#sk-container-id-1 div.sk-item {position: relative;z-index: 1;}#sk-container-id-1 div.sk-parallel {display: flex;align-items: stretch;justify-content: center;background-color: white;position: relative;}#sk-container-id-1 div.sk-item::before, #sk-container-id-1 div.sk-parallel-item::before {content: \"\";position: absolute;border-left: 1px solid gray;box-sizing: border-box;top: 0;bottom: 0;left: 50%;z-index: -1;}#sk-container-id-1 div.sk-parallel-item {display: flex;flex-direction: column;z-index: 1;position: relative;background-color: white;}#sk-container-id-1 div.sk-parallel-item:first-child::after {align-self: flex-end;width: 50%;}#sk-container-id-1 div.sk-parallel-item:last-child::after {align-self: flex-start;width: 50%;}#sk-container-id-1 div.sk-parallel-item:only-child::after {width: 0;}#sk-container-id-1 div.sk-dashed-wrapped {border: 1px dashed gray;margin: 0 0.4em 0.5em 0.4em;box-sizing: border-box;padding-bottom: 0.4em;background-color: white;}#sk-container-id-1 div.sk-label label {font-family: monospace;font-weight: bold;display: inline-block;line-height: 1.2em;}#sk-container-id-1 div.sk-label-container {text-align: center;}#sk-container-id-1 div.sk-container {/* jupyter's `normalize.less` sets `[hidden] { display: none; }` but bootstrap.min.css set `[hidden] { display: none !important; }` so we also need the `!important` here to be able to override the default hidden behavior on the sphinx rendered scikit-learn.org. See: https://github.com/scikit-learn/scikit-learn/issues/21755 */display: inline-block !important;position: relative;}#sk-container-id-1 div.sk-text-repr-fallback {display: none;}</style><div id=\"sk-container-id-1\" class=\"sk-top-container\"><div class=\"sk-text-repr-fallback\"><pre>XGBRegressor(base_score=None, booster=None, callbacks=None,\n",
       "             colsample_bylevel=None, colsample_bynode=None,\n",
       "             colsample_bytree=None, early_stopping_rounds=None,\n",
       "             enable_categorical=False, eval_metric=None, feature_types=None,\n",
       "             gamma=None, gpu_id=None, grow_policy=None, importance_type=None,\n",
       "             interaction_constraints=None, learning_rate=None, max_bin=None,\n",
       "             max_cat_threshold=None, max_cat_to_onehot=None,\n",
       "             max_delta_step=None, max_depth=None, max_leaves=None,\n",
       "             min_child_weight=None, missing=nan, monotone_constraints=None,\n",
       "             n_estimators=100, n_jobs=None, num_parallel_tree=None,\n",
       "             predictor=None, random_state=42, ...)</pre><b>In a Jupyter environment, please rerun this cell to show the HTML representation or trust the notebook. <br />On GitHub, the HTML representation is unable to render, please try loading this page with nbviewer.org.</b></div><div class=\"sk-container\" hidden><div class=\"sk-item\"><div class=\"sk-estimator sk-toggleable\"><input class=\"sk-toggleable__control sk-hidden--visually\" id=\"sk-estimator-id-1\" type=\"checkbox\" checked><label for=\"sk-estimator-id-1\" class=\"sk-toggleable__label sk-toggleable__label-arrow\">XGBRegressor</label><div class=\"sk-toggleable__content\"><pre>XGBRegressor(base_score=None, booster=None, callbacks=None,\n",
       "             colsample_bylevel=None, colsample_bynode=None,\n",
       "             colsample_bytree=None, early_stopping_rounds=None,\n",
       "             enable_categorical=False, eval_metric=None, feature_types=None,\n",
       "             gamma=None, gpu_id=None, grow_policy=None, importance_type=None,\n",
       "             interaction_constraints=None, learning_rate=None, max_bin=None,\n",
       "             max_cat_threshold=None, max_cat_to_onehot=None,\n",
       "             max_delta_step=None, max_depth=None, max_leaves=None,\n",
       "             min_child_weight=None, missing=nan, monotone_constraints=None,\n",
       "             n_estimators=100, n_jobs=None, num_parallel_tree=None,\n",
       "             predictor=None, random_state=42, ...)</pre></div></div></div></div></div>"
      ],
      "text/plain": [
       "XGBRegressor(base_score=None, booster=None, callbacks=None,\n",
       "             colsample_bylevel=None, colsample_bynode=None,\n",
       "             colsample_bytree=None, early_stopping_rounds=None,\n",
       "             enable_categorical=False, eval_metric=None, feature_types=None,\n",
       "             gamma=None, gpu_id=None, grow_policy=None, importance_type=None,\n",
       "             interaction_constraints=None, learning_rate=None, max_bin=None,\n",
       "             max_cat_threshold=None, max_cat_to_onehot=None,\n",
       "             max_delta_step=None, max_depth=None, max_leaves=None,\n",
       "             min_child_weight=None, missing=nan, monotone_constraints=None,\n",
       "             n_estimators=100, n_jobs=None, num_parallel_tree=None,\n",
       "             predictor=None, random_state=42, ...)"
      ]
     },
     "execution_count": 27,
     "metadata": {},
     "output_type": "execute_result"
    }
   ],
   "source": [
    "model_regime_0 = XGBRegressor(random_state = 42)\n",
    "model_regime_0.fit(prediction_data_0.drop(['Regime', \"Close\"], axis=1), prediction_data_0['Close'])\n",
    "\n",
    "model_regime_1 = XGBRegressor(random_state = 42)\n",
    "model_regime_1.fit(prediction_data_1.drop(['Regime', \"Close\"], axis=1), prediction_data_1['Close'])\n",
    "\n",
    "model_regime_2 = XGBRegressor(random_state = 42)\n",
    "model_regime_2.fit(prediction_data_2.drop(['Regime', \"Close\"], axis=1), prediction_data_2['Close'])\n"
   ]
  },
  {
   "attachments": {},
   "cell_type": "markdown",
   "metadata": {},
   "source": [
    "Create and fit the XGB Regressor Model on the entire dataset"
   ]
  },
  {
   "cell_type": "code",
   "execution_count": 28,
   "metadata": {},
   "outputs": [
    {
     "data": {
      "text/html": [
       "<style>#sk-container-id-2 {color: black;}#sk-container-id-2 pre{padding: 0;}#sk-container-id-2 div.sk-toggleable {background-color: white;}#sk-container-id-2 label.sk-toggleable__label {cursor: pointer;display: block;width: 100%;margin-bottom: 0;padding: 0.3em;box-sizing: border-box;text-align: center;}#sk-container-id-2 label.sk-toggleable__label-arrow:before {content: \"▸\";float: left;margin-right: 0.25em;color: #696969;}#sk-container-id-2 label.sk-toggleable__label-arrow:hover:before {color: black;}#sk-container-id-2 div.sk-estimator:hover label.sk-toggleable__label-arrow:before {color: black;}#sk-container-id-2 div.sk-toggleable__content {max-height: 0;max-width: 0;overflow: hidden;text-align: left;background-color: #f0f8ff;}#sk-container-id-2 div.sk-toggleable__content pre {margin: 0.2em;color: black;border-radius: 0.25em;background-color: #f0f8ff;}#sk-container-id-2 input.sk-toggleable__control:checked~div.sk-toggleable__content {max-height: 200px;max-width: 100%;overflow: auto;}#sk-container-id-2 input.sk-toggleable__control:checked~label.sk-toggleable__label-arrow:before {content: \"▾\";}#sk-container-id-2 div.sk-estimator input.sk-toggleable__control:checked~label.sk-toggleable__label {background-color: #d4ebff;}#sk-container-id-2 div.sk-label input.sk-toggleable__control:checked~label.sk-toggleable__label {background-color: #d4ebff;}#sk-container-id-2 input.sk-hidden--visually {border: 0;clip: rect(1px 1px 1px 1px);clip: rect(1px, 1px, 1px, 1px);height: 1px;margin: -1px;overflow: hidden;padding: 0;position: absolute;width: 1px;}#sk-container-id-2 div.sk-estimator {font-family: monospace;background-color: #f0f8ff;border: 1px dotted black;border-radius: 0.25em;box-sizing: border-box;margin-bottom: 0.5em;}#sk-container-id-2 div.sk-estimator:hover {background-color: #d4ebff;}#sk-container-id-2 div.sk-parallel-item::after {content: \"\";width: 100%;border-bottom: 1px solid gray;flex-grow: 1;}#sk-container-id-2 div.sk-label:hover label.sk-toggleable__label {background-color: #d4ebff;}#sk-container-id-2 div.sk-serial::before {content: \"\";position: absolute;border-left: 1px solid gray;box-sizing: border-box;top: 0;bottom: 0;left: 50%;z-index: 0;}#sk-container-id-2 div.sk-serial {display: flex;flex-direction: column;align-items: center;background-color: white;padding-right: 0.2em;padding-left: 0.2em;position: relative;}#sk-container-id-2 div.sk-item {position: relative;z-index: 1;}#sk-container-id-2 div.sk-parallel {display: flex;align-items: stretch;justify-content: center;background-color: white;position: relative;}#sk-container-id-2 div.sk-item::before, #sk-container-id-2 div.sk-parallel-item::before {content: \"\";position: absolute;border-left: 1px solid gray;box-sizing: border-box;top: 0;bottom: 0;left: 50%;z-index: -1;}#sk-container-id-2 div.sk-parallel-item {display: flex;flex-direction: column;z-index: 1;position: relative;background-color: white;}#sk-container-id-2 div.sk-parallel-item:first-child::after {align-self: flex-end;width: 50%;}#sk-container-id-2 div.sk-parallel-item:last-child::after {align-self: flex-start;width: 50%;}#sk-container-id-2 div.sk-parallel-item:only-child::after {width: 0;}#sk-container-id-2 div.sk-dashed-wrapped {border: 1px dashed gray;margin: 0 0.4em 0.5em 0.4em;box-sizing: border-box;padding-bottom: 0.4em;background-color: white;}#sk-container-id-2 div.sk-label label {font-family: monospace;font-weight: bold;display: inline-block;line-height: 1.2em;}#sk-container-id-2 div.sk-label-container {text-align: center;}#sk-container-id-2 div.sk-container {/* jupyter's `normalize.less` sets `[hidden] { display: none; }` but bootstrap.min.css set `[hidden] { display: none !important; }` so we also need the `!important` here to be able to override the default hidden behavior on the sphinx rendered scikit-learn.org. See: https://github.com/scikit-learn/scikit-learn/issues/21755 */display: inline-block !important;position: relative;}#sk-container-id-2 div.sk-text-repr-fallback {display: none;}</style><div id=\"sk-container-id-2\" class=\"sk-top-container\"><div class=\"sk-text-repr-fallback\"><pre>XGBRegressor(base_score=None, booster=None, callbacks=None,\n",
       "             colsample_bylevel=None, colsample_bynode=None,\n",
       "             colsample_bytree=None, early_stopping_rounds=None,\n",
       "             enable_categorical=False, eval_metric=None, feature_types=None,\n",
       "             gamma=None, gpu_id=None, grow_policy=None, importance_type=None,\n",
       "             interaction_constraints=None, learning_rate=None, max_bin=None,\n",
       "             max_cat_threshold=None, max_cat_to_onehot=None,\n",
       "             max_delta_step=None, max_depth=None, max_leaves=None,\n",
       "             min_child_weight=None, missing=nan, monotone_constraints=None,\n",
       "             n_estimators=100, n_jobs=None, num_parallel_tree=None,\n",
       "             predictor=None, random_state=42, ...)</pre><b>In a Jupyter environment, please rerun this cell to show the HTML representation or trust the notebook. <br />On GitHub, the HTML representation is unable to render, please try loading this page with nbviewer.org.</b></div><div class=\"sk-container\" hidden><div class=\"sk-item\"><div class=\"sk-estimator sk-toggleable\"><input class=\"sk-toggleable__control sk-hidden--visually\" id=\"sk-estimator-id-2\" type=\"checkbox\" checked><label for=\"sk-estimator-id-2\" class=\"sk-toggleable__label sk-toggleable__label-arrow\">XGBRegressor</label><div class=\"sk-toggleable__content\"><pre>XGBRegressor(base_score=None, booster=None, callbacks=None,\n",
       "             colsample_bylevel=None, colsample_bynode=None,\n",
       "             colsample_bytree=None, early_stopping_rounds=None,\n",
       "             enable_categorical=False, eval_metric=None, feature_types=None,\n",
       "             gamma=None, gpu_id=None, grow_policy=None, importance_type=None,\n",
       "             interaction_constraints=None, learning_rate=None, max_bin=None,\n",
       "             max_cat_threshold=None, max_cat_to_onehot=None,\n",
       "             max_delta_step=None, max_depth=None, max_leaves=None,\n",
       "             min_child_weight=None, missing=nan, monotone_constraints=None,\n",
       "             n_estimators=100, n_jobs=None, num_parallel_tree=None,\n",
       "             predictor=None, random_state=42, ...)</pre></div></div></div></div></div>"
      ],
      "text/plain": [
       "XGBRegressor(base_score=None, booster=None, callbacks=None,\n",
       "             colsample_bylevel=None, colsample_bynode=None,\n",
       "             colsample_bytree=None, early_stopping_rounds=None,\n",
       "             enable_categorical=False, eval_metric=None, feature_types=None,\n",
       "             gamma=None, gpu_id=None, grow_policy=None, importance_type=None,\n",
       "             interaction_constraints=None, learning_rate=None, max_bin=None,\n",
       "             max_cat_threshold=None, max_cat_to_onehot=None,\n",
       "             max_delta_step=None, max_depth=None, max_leaves=None,\n",
       "             min_child_weight=None, missing=nan, monotone_constraints=None,\n",
       "             n_estimators=100, n_jobs=None, num_parallel_tree=None,\n",
       "             predictor=None, random_state=42, ...)"
      ]
     },
     "execution_count": 28,
     "metadata": {},
     "output_type": "execute_result"
    }
   ],
   "source": [
    "model_regime_combined = XGBRegressor(random_state = 42)\n",
    "model_regime_combined.fit(prediction_data.drop(['Regime', \"Close\"], axis=1), prediction_data['Close'])"
   ]
  },
  {
   "attachments": {},
   "cell_type": "markdown",
   "metadata": {},
   "source": [
    "Backtest the strategy on the combined model with no regime distinction"
   ]
  },
  {
   "cell_type": "code",
   "execution_count": 32,
   "metadata": {},
   "outputs": [
    {
     "name": "stdout",
     "output_type": "stream",
     "text": [
      "Cumulative Returns: 25361165.253788278\n",
      "Sharpe Ratio: 3.067644634844744\n",
      "Annualized Returns: 2.4567889528529223\n"
     ]
    }
   ],
   "source": [
    "import numpy as np\n",
    "import pandas as pd\n",
    "import vectorbt as vbt\n",
    "\n",
    "# Clustering Model\n",
    "cluster_model = clf\n",
    "\n",
    "# Data\n",
    "df = prediction_data.drop(\"Regime\", axis = 1)\n",
    "\n",
    "# Placeholder for entry and exit signals\n",
    "df['Entry'] = np.nan\n",
    "df['Exit'] = np.nan\n",
    "\n",
    "for i in range(len(df)):\n",
    "    prediction = model_regime_combined.predict(df.iloc[i].drop(['Close', 'Entry', 'Exit']).values.reshape(1, -1))\n",
    "    \n",
    "    \n",
    "    # If the predicted future price is 0.5% higher, enter a long position\n",
    "    if prediction[0] > df['Close'].iloc[i] * 1.005:\n",
    "        df['Entry'].iloc[i] = True\n",
    "        df['Exit'].iloc[i] = False\n",
    "    # If the predicted future price is 0.3% lower, exit the long position\n",
    "    elif prediction[0] < df['Close'].iloc[i] * 0.997:\n",
    "        df['Exit'].iloc[i] = True\n",
    "        df['Entry'].iloc[i] = False\n",
    "    else:\n",
    "        df['Entry'].iloc[i] = df['Exit'].iloc[i] = False\n",
    "\n",
    "# Forward fill the signals\n",
    "df['Entry'].ffill(inplace=True)\n",
    "df['Exit'].ffill(inplace=True)\n",
    "\n",
    "# Convert the signals to boolean values\n",
    "df['Entry'] = df['Entry'].astype(np.bool)\n",
    "df['Exit'] = df['Exit'].astype(np.bool)\n",
    "\n",
    "portfolio = vbt.Portfolio.from_signals(df['Close'], df['Entry'], df['Exit'])\n",
    "\n",
    "# Print the total return of the strategy\n",
    "print(f\"Cumulative Returns: {portfolio.total_return()}\")\n",
    "print(f\"Sharpe Ratio: {portfolio.sharpe_ratio(freq = 'D', risk_free=0.0)}\")\n",
    "print(f\"Annualized Returns: {portfolio.annualized_return(freq = 'D')}\")\n",
    "\n",
    "\n",
    "\n"
   ]
  },
  {
   "attachments": {},
   "cell_type": "markdown",
   "metadata": {},
   "source": [
    "Backtest the strategy on the 3 separate models with regime distinction"
   ]
  },
  {
   "cell_type": "code",
   "execution_count": 46,
   "metadata": {},
   "outputs": [
    {
     "name": "stdout",
     "output_type": "stream",
     "text": [
      "Cumulative Returns: 291416353.98664975\n",
      "Sharpe Ratio: 3.8453407782357956\n",
      "Annualized Returns: 3.1287229633652114\n",
      "Difference in Cumulative Returns between regime and no regime: 266055188.73286146\n",
      "Difference in Sharpe Ratio between regime and no regime: 0.7776961433910516\n",
      "Difference in Annualized Returns between regime and no regime: 0.6719340105122891\n"
     ]
    }
   ],
   "source": [
    "import pandas as pd\n",
    "import numpy as np\n",
    "import vectorbt as vbt\n",
    "\n",
    "# Clustering Model\n",
    "cluster_model = clf\n",
    "\n",
    "# Data\n",
    "df1 = prediction_data.drop(\"Regime\", axis = 1)\n",
    "\n",
    "# Placeholder for entry and exit signals\n",
    "df1['Entry'] = np.nan\n",
    "df1['Exit'] = np.nan\n",
    "df1['Regime'] = np.nan\n",
    "\n",
    "for i in range(len(df1)):\n",
    "    # Use your clustering model to determine the regime\n",
    "    # regime = cluster_model.predict(combined_dataset_pca[i].reshape(1, -1))\n",
    "    regime = cluster_model.predict(combined_dataset_pca[i].reshape(1, -1))\n",
    "    \n",
    "    df1['Regime'].iloc[i] = regime\n",
    "\n",
    "    # Use the appropriate model to predict the next price based on the regime\n",
    "    if regime == 0:\n",
    "        prediction = model_regime_0.predict(df1.iloc[i].drop(['Regime', 'Close', 'Entry', 'Exit']).values.reshape(1,-1))\n",
    "    elif regime == 1:\n",
    "        prediction = model_regime_1.predict(df1.iloc[i].drop(['Regime', 'Close', 'Entry', 'Exit']).values.reshape(1,-1))\n",
    "    else:\n",
    "        prediction = model_regime_2.predict(df1.iloc[i].drop(['Regime', 'Close', 'Entry', 'Exit']).values.reshape(1,-1))\n",
    "\n",
    "    # If the predicted future price is 0.5% higher, enter a long position\n",
    "    if prediction[0] > df1['Close'].iloc[i] * 1.005:\n",
    "        df1['Entry'].iloc[i] = True\n",
    "        df1['Exit'].iloc[i] = False\n",
    "    # If the predicted future price is 0.3% lower, exit the long position\n",
    "    elif prediction[0] < df1['Close'].iloc[i] * 0.997:\n",
    "        df1['Exit'].iloc[i] = True\n",
    "        df1['Entry'].iloc[i] = False\n",
    "    else:\n",
    "        df1['Entry'].iloc[i] = df1['Exit'].iloc[i] = False\n",
    "\n",
    "# Forward fill the signals\n",
    "df1['Entry'].ffill(inplace=True)\n",
    "df1['Exit'].ffill(inplace=True)\n",
    "\n",
    "# Convert the signals to boolean values\n",
    "df1['Entry'] = df1['Entry'].astype(np.bool)\n",
    "df1['Exit'] = df1['Exit'].astype(np.bool)\n",
    "\n",
    "# Create the Portfolio from the signals\n",
    "portfolio1 = vbt.Portfolio.from_signals(df1['Close'], df1['Entry'], df1['Exit'])\n",
    "\n",
    "# Print the total return of the strategy\n",
    "print(f\"Cumulative Returns: {portfolio1.total_return()}\")\n",
    "print(f\"Sharpe Ratio: {portfolio1.sharpe_ratio(freq = 'D', risk_free=0.0)}\")\n",
    "print(f\"Annualized Returns: {portfolio1.annualized_return(freq = 'D')}\")\n",
    "\n",
    "print(f\"Difference in Cumulative Returns between regime and no regime: {portfolio1.total_return() - portfolio.total_return()}\")\n",
    "print(f\"Difference in Sharpe Ratio between regime and no regime: {portfolio1.sharpe_ratio(freq = 'D', risk_free=0.0) - portfolio.sharpe_ratio(freq = 'D', risk_free=0.0)}\")\n",
    "print(f\"Difference in Annualized Returns between regime and no regime: {portfolio1.annualized_return(freq = 'D') - portfolio.annualized_return(freq = 'D')}\")\n"
   ]
  },
  {
   "attachments": {},
   "cell_type": "markdown",
   "metadata": {},
   "source": [
    "Test a bench mark buy and hold strategy to compare results"
   ]
  },
  {
   "cell_type": "code",
   "execution_count": 45,
   "metadata": {},
   "outputs": [
    {
     "name": "stdout",
     "output_type": "stream",
     "text": [
      "Benchmark Cumulative Returns: 70.24063449435764\n",
      "Excess Return: 291416283.74601525\n"
     ]
    }
   ],
   "source": [
    "close = prediction_data['Close']\n",
    "\n",
    "entry = pd.Series(False, index=close.index)\n",
    "exit = pd.Series(False, index=close.index)\n",
    "\n",
    "entry.iloc[0] = True  \n",
    "exit.iloc[-1] = True  \n",
    "\n",
    "benchmark_portfolio = vbt.Portfolio.from_signals(close, entry, exit)\n",
    "\n",
    "print(f\"Benchmark Cumulative Returns: {benchmark_portfolio.total_return()}\")\n",
    "\n",
    "portfolio_return = portfolio1.total_return()\n",
    "benchmark_return = benchmark_portfolio.total_return()\n",
    "\n",
    "print(f\"Excess Return: {portfolio_return - benchmark_return}\")\n",
    "\n",
    "\n"
   ]
  }
 ],
 "metadata": {
  "kernelspec": {
   "display_name": "base",
   "language": "python",
   "name": "python3"
  },
  "language_info": {
   "codemirror_mode": {
    "name": "ipython",
    "version": 3
   },
   "file_extension": ".py",
   "mimetype": "text/x-python",
   "name": "python",
   "nbconvert_exporter": "python",
   "pygments_lexer": "ipython3",
   "version": "3.10.12"
  },
  "orig_nbformat": 4
 },
 "nbformat": 4,
 "nbformat_minor": 2
}
