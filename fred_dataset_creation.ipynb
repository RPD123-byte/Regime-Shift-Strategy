{
 "cells": [
  {
   "cell_type": "code",
   "execution_count": 70,
   "metadata": {},
   "outputs": [],
   "source": [
    "from fredapi import Fred\n",
    "import pandas as pd\n",
    "import numpy as np\n",
    "import matplotlib.pyplot as plt\n",
    "from scipy.interpolate import CubicSpline\n"
   ]
  },
  {
   "cell_type": "code",
   "execution_count": 71,
   "metadata": {},
   "outputs": [],
   "source": [
    "api_key = \"08e5257628ddf030304b107dd5185a26\"\n",
    "fred = Fred(api_key=api_key)\n",
    "\n",
    "# Set the start and end dates for the data\n",
    "start_date = '1994-01-01'\n",
    "end_date = '2014-01-01'\n",
    "\n",
    "economic_indicators = [\n",
    "    # Growth Statistics\n",
    "    \"GDPC1\", \"GDP\", \"GDPPOT\", \"GNPDEF\", \"INDPRO\",\n",
    "    \n",
    "    # Price and Inflation Indices\n",
    "    \"CPIAUCSL\", \"CPIAUCSL\", \"CPILFESL\", \"PPIACO\", \"PCUOMFGOMFG\", \"PCEPI\",\n",
    "    \n",
    "    # Money Supply Statistics\n",
    "    \"M1SL\", \"M2SL\", \"M3SL\", \"MZMSL\", \"BASE\",\n",
    "    \n",
    "    # Interest Rates\n",
    "    \"FEDFUNDS\", \"DGS10\", \"TB3MS\", \"BAA\", \"DFF\",\n",
    "    \n",
    "    # Employment Statistics\n",
    "    \"PAYEMS\", \"UNRATE\", \"AWHMAN\", \"CE16OV\", \"USPRIV\",\n",
    "    \n",
    "    # Income and Expenditure Statistics\n",
    "    \"DPI\", \"PCECC96\", \"TOTALSA\", \"PSAVERT\", \"NEWORDER\",\n",
    "    \n",
    "    # Debt Levels\n",
    "    \"GFDEBTN\", \"TCMDO\",\n",
    "    \n",
    "    # Miscellaneous Indicators\n",
    "    \"HOUST\", \"GPDI\", \"DCOILWTICO\"\n",
    "]\n",
    "\n",
    "\n",
    "# Fetch data for multiple indicators\n",
    "data = pd.DataFrame()\n",
    "for indicator in economic_indicators:\n",
    "    try:\n",
    "        data[indicator] = fred.get_series(indicator, start_date=start_date, end_date=end_date)\n",
    "    except ValueError as e:\n",
    "        print(f\"Error fetching data for {indicator}: {e}\")\n"
   ]
  },
  {
   "cell_type": "code",
   "execution_count": 72,
   "metadata": {},
   "outputs": [],
   "source": [
    "fred_indicators = data.loc[start_date:end_date]"
   ]
  },
  {
   "cell_type": "code",
   "execution_count": 73,
   "metadata": {},
   "outputs": [],
   "source": [
    "daily_date_range = pd.date_range(start=start_date, end=end_date, freq='D')\n",
    "\n",
    "# Create a new dataframe with daily timestamped rows\n",
    "daily_data_df = pd.DataFrame({'Date': daily_date_range})\n",
    "\n",
    "# Set 'Date' as the index for the dataframe\n",
    "daily_data_df.set_index('Date', inplace=True)\n",
    "\n",
    "# Merge the original quarterly data with the new daily data\n",
    "merged_data_df = pd.concat([fred_indicators, daily_data_df], axis=0)\n",
    "\n",
    "# Sort the merged dataframe by the index (Date) to ensure the dates are in order\n",
    "merged_data_df.sort_index(inplace=True)\n",
    "\n"
   ]
  },
  {
   "cell_type": "code",
   "execution_count": 74,
   "metadata": {},
   "outputs": [],
   "source": [
    "duplicates = merged_data_df.index.duplicated(keep='first')\n",
    "\n",
    "merged_data_df = merged_data_df[~duplicates]"
   ]
  },
  {
   "cell_type": "code",
   "execution_count": 75,
   "metadata": {},
   "outputs": [],
   "source": [
    "def cubic_spline_interpolation(quarterly_gdp_data, indicator):\n",
    "    # Forward-fill missing values in GDP data\n",
    "    gdp_data = quarterly_gdp_data[indicator].copy()\n",
    "\n",
    "    # Find the indices of NaN values in the GDP data\n",
    "    nan_indices = gdp_data.isnull()\n",
    "\n",
    "    # Find the indices of non-NaN values in the GDP data\n",
    "    non_nan_indices = ~nan_indices\n",
    "\n",
    "    # Check if there are at least two non-NaN values to perform interpolation\n",
    "    if non_nan_indices.sum() < 2:\n",
    "        # If there are not enough non-NaN values, drop the indicator from the DataFrame\n",
    "        quarterly_gdp_data.drop(columns=[indicator], inplace=True)\n",
    "    else:\n",
    "        # Create a Cubic Spline interpolation object using dates as the known data\n",
    "        cs = CubicSpline(gdp_data.index[non_nan_indices], gdp_data[non_nan_indices])\n",
    "\n",
    "        # Use the interpolation object to estimate the missing values\n",
    "        gdp_data[nan_indices] = cs(gdp_data.index[nan_indices])\n",
    "\n",
    "    return gdp_data\n",
    "\n"
   ]
  },
  {
   "cell_type": "code",
   "execution_count": 78,
   "metadata": {},
   "outputs": [],
   "source": [
    "interpolated_data_df = merged_data_df.copy()\n",
    "\n",
    "for i, ind in enumerate(merged_data_df.columns):\n",
    "    interpolated_data_df[ind] = cubic_spline_interpolation(merged_data_df, ind)\n",
    "\n",
    "percentage_change_df = interpolated_data_df.pct_change()"
   ]
  },
  {
   "cell_type": "code",
   "execution_count": null,
   "metadata": {},
   "outputs": [],
   "source": [
    "percentage_change_df.to_csv('fred_indicators.csv', index=True)"
   ]
  }
 ],
 "metadata": {
  "kernelspec": {
   "display_name": "base",
   "language": "python",
   "name": "python3"
  },
  "language_info": {
   "codemirror_mode": {
    "name": "ipython",
    "version": 3
   },
   "file_extension": ".py",
   "mimetype": "text/x-python",
   "name": "python",
   "nbconvert_exporter": "python",
   "pygments_lexer": "ipython3",
   "version": "3.10.12"
  },
  "orig_nbformat": 4
 },
 "nbformat": 4,
 "nbformat_minor": 2
}
